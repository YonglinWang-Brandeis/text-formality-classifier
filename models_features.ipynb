{
 "cells": [
  {
   "cell_type": "markdown",
   "metadata": {},
   "source": [
    "# features:\n",
    "- entity\n",
    "- entity length\n",
    "- fast number\n",
    "- n-gram\n",
    "- readability"
   ]
  },
  {
   "cell_type": "code",
   "execution_count": 21,
   "metadata": {},
   "outputs": [
    {
     "data": {
      "text/plain": [
       "'/Users/loewi/Documents/GitHub/text-formality-classifier'"
      ]
     },
     "execution_count": 21,
     "metadata": {},
     "output_type": "execute_result"
    }
   ],
   "source": [
    "import os\n",
    "os.getcwd()"
   ]
  },
  {
   "cell_type": "code",
   "execution_count": 22,
   "metadata": {},
   "outputs": [
    {
     "name": "stdout",
     "output_type": "stream",
     "text": [
      "features loading...\n",
      "feature: entity, dimension: (209124, 6)\n",
      "feature: entity_length, dimension: (209124, 1)\n",
      "feature: fast_number, dimension: (209124, 6)\n",
      "feature: n_gram, dimension: (209124, 1359848)\n",
      "feature: readability, dimension: (209124, 2)\n",
      "features prepared in 0s\n",
      "\n"
     ]
    }
   ],
   "source": [
    "from joblib import load\n",
    "from time import time\n",
    "t0 = time()\n",
    "\n",
    "print(\"features loading...\")\n",
    "\n",
    "feature_ent = load(\"feature/ent_feature.jbl\")\n",
    "feature_ngram = load(\"feature/ngram_feature.jbl\")\n",
    "feature_len = load(\"feature/entity_length_feature.jbl\")\n",
    "feature_fast = load(\"feature/fast_num_feature.jbl\")\n",
    "feature_read = load(\"feature/readability_feature.jbl\")\n",
    "duration = time() - t0\n",
    "features = [(feature_ent,\"entity\"),\n",
    "            (feature_len, \"entity_length\"),\n",
    "            (feature_fast, \"fast_number\"),\n",
    "            (feature_ngram, \"n_gram\"),\n",
    "            (feature_read, \"readability\")]\n",
    "for feature, name in features:\n",
    "    print(\"feature: {}, dimension: {}\".format(name, feature.shape))\n",
    "    \n",
    "print(\"features prepared in %ds\\n\" % duration)"
   ]
  },
  {
   "cell_type": "code",
   "execution_count": 23,
   "metadata": {},
   "outputs": [
    {
     "name": "stdout",
     "output_type": "stream",
     "text": [
      "data loading...\n",
      "data prepared in 0s\n",
      "\n"
     ]
    }
   ],
   "source": [
    "print(\"data loading...\")\n",
    "t0 = time()\n",
    "sent_dict = load(open(\"/Users/loewi/Documents/GitHub/text-formality-classifier/preprocessing/corpus_dict.pkl\", \"rb\"))\n",
    "label = sent_dict[\"label\"]\n",
    "duration = time() - t0\n",
    "print(\"data prepared in %ds\\n\" % duration)"
   ]
  },
  {
   "cell_type": "code",
   "execution_count": 24,
   "metadata": {},
   "outputs": [],
   "source": [
    "from sklearn.model_selection import train_test_split\n",
    "from sklearn.preprocessing import MinMaxScaler,MaxAbsScaler\n",
    "from sklearn.linear_model import LogisticRegression\n",
    "from sklearn.tree import DecisionTreeClassifier\n",
    "from sklearn.naive_bayes import MultinomialNB\n",
    "from sklearn.model_selection import cross_val_score\n",
    "from sklearn import preprocessing\n",
    "from sklearn.utils import shuffle\n",
    "from joblib import dump"
   ]
  },
  {
   "cell_type": "code",
   "execution_count": 25,
   "metadata": {},
   "outputs": [],
   "source": [
    "def get_non_neg_feature(feature):\n",
    "    scaler = MinMaxScaler()\n",
    "    feature = scaler.fit_transform(feature)\n",
    "    return feature"
   ]
  },
  {
   "cell_type": "markdown",
   "metadata": {},
   "source": [
    "# Naíve Bayes"
   ]
  },
  {
   "cell_type": "code",
   "execution_count": 26,
   "metadata": {},
   "outputs": [
    {
     "name": "stdout",
     "output_type": "stream",
     "text": [
      "------------------------------\n",
      "feature: entity, classifier: Naíve Bayes\n",
      "Training time: 1.078s\n",
      "Accuracy_split: 0.537\n",
      "Accuracy_cross_validation: 0.540 (+/- 0.004)\n",
      "------------------------------\n",
      "feature: entity_length, classifier: Naíve Bayes\n",
      "Training time: 0.913s\n",
      "Accuracy_split: 0.499\n",
      "Accuracy_cross_validation: 0.500 (+/- 0.000)\n",
      "------------------------------\n",
      "feature: fast_number, classifier: Naíve Bayes\n",
      "Training time: 0.915s\n",
      "Accuracy_split: 0.795\n",
      "Accuracy_cross_validation: 0.797 (+/- 0.006)\n",
      "------------------------------\n",
      "feature: n_gram, classifier: Naíve Bayes\n",
      "Training time: 2.695s\n",
      "Accuracy_split: 0.679\n",
      "Accuracy_cross_validation: 0.687 (+/- 0.002)\n",
      "------------------------------\n",
      "feature: readability, classifier: Naíve Bayes\n",
      "Training time: 0.910s\n",
      "Accuracy_split: 0.535\n",
      "Accuracy_cross_validation: 0.536 (+/- 0.004)\n"
     ]
    }
   ],
   "source": [
    "for feature, name in features:\n",
    "    print(\"-\"*30)\n",
    "    print(\"feature: {}, classifier: Naíve Bayes\".format(name))\n",
    "    if name == 'readability':\n",
    "        feature = get_non_neg_feature(feature)\n",
    "    X_train, X_test, y_train, y_test = train_test_split(feature, label, test_size=0.2, random_state=0)\n",
    "\n",
    "    clf = MultinomialNB()\n",
    "    clf.fit(X_train, y_train)\n",
    "\n",
    "    t0 = time()\n",
    "    # using cross validation\n",
    "    scores = cross_val_score(clf, X_train, y_train, cv=5)\n",
    "    t1 = time() - t0\n",
    "    print(\"Training time: %0.3fs\" % t1)\n",
    "\n",
    "    score0 = clf.score(X_test, y_test)\n",
    "    score = scores.mean()\n",
    "    print(\"Accuracy_split: %0.3f\" % score0)\n",
    "    print(\"Accuracy_cross_validation: %0.3f (+/- %0.3f)\" % (score, scores.std()*2))\n",
    "    path = \"model/\" + name + '_nb.jbl'\n",
    "    dump(clf, path)"
   ]
  },
  {
   "cell_type": "markdown",
   "metadata": {},
   "source": [
    "# Logistic Regression"
   ]
  },
  {
   "cell_type": "code",
   "execution_count": 27,
   "metadata": {},
   "outputs": [
    {
     "name": "stdout",
     "output_type": "stream",
     "text": [
      "------------------------------\n",
      "feature: entity, classifier: Logistic Regression\n",
      "Training time: 1.292s\n",
      "Accuracy_split: 0.537\n",
      "Accuracy_cross_validation: 0.541 (+/- 0.003)\n",
      "------------------------------\n",
      "feature: entity_length, classifier: Logistic Regression\n",
      "Training time: 1.085s\n",
      "Accuracy_split: 0.523\n",
      "Accuracy_cross_validation: 0.526 (+/- 0.002)\n",
      "------------------------------\n",
      "feature: fast_number, classifier: Logistic Regression\n",
      "Training time: 2.115s\n",
      "Accuracy_split: 0.804\n",
      "Accuracy_cross_validation: 0.808 (+/- 0.004)\n",
      "------------------------------\n",
      "feature: n_gram, classifier: Logistic Regression\n",
      "Training time: 104.841s\n",
      "Accuracy_split: 0.728\n",
      "Accuracy_cross_validation: 0.729 (+/- 0.003)\n",
      "------------------------------\n",
      "feature: readability, classifier: Logistic Regression\n",
      "Training time: 1.394s\n",
      "Accuracy_split: 0.569\n",
      "Accuracy_cross_validation: 0.570 (+/- 0.005)\n"
     ]
    }
   ],
   "source": [
    "for feature, name in features:\n",
    "    print(\"-\"*30)\n",
    "    print(\"feature: {}, classifier: Logistic Regression\".format(name))\n",
    "    X_train, X_test, y_train, y_test = train_test_split(feature, label, test_size=0.2, random_state=0)\n",
    "\n",
    "    clf = LogisticRegression()\n",
    "    clf.fit(X_train, y_train)\n",
    "\n",
    "    t0 = time()\n",
    "    # using cross validation\n",
    "    scores = cross_val_score(clf, X_train, y_train, cv=5)\n",
    "    t1 = time() - t0\n",
    "    print(\"Training time: %0.3fs\" % t1)\n",
    "\n",
    "    score0 = clf.score(X_test, y_test)\n",
    "    score = scores.mean()\n",
    "    print(\"Accuracy_split: %0.3f\" % score0)\n",
    "    print(\"Accuracy_cross_validation: %0.3f (+/- %0.3f)\" % (score, scores.std()*2))\n",
    "    path = \"model/\" + name + '_lr.jbl'\n",
    "    dump(clf, path)"
   ]
  },
  {
   "cell_type": "markdown",
   "metadata": {},
   "source": [
    "# Decision Tree"
   ]
  },
  {
   "cell_type": "code",
   "execution_count": 28,
   "metadata": {},
   "outputs": [
    {
     "name": "stdout",
     "output_type": "stream",
     "text": [
      "------------------------------\n",
      "feature: entity, classifier: Decision Tree\n",
      "Training time: 0.615s\n",
      "Accuracy_split: 0.539\n",
      "Accuracy_cross_validation: 0.544 (+/- 0.003)\n",
      "------------------------------\n",
      "feature: entity_length, classifier: Decision Tree\n",
      "Training time: 0.590s\n",
      "Accuracy_split: 0.523\n",
      "Accuracy_cross_validation: 0.526 (+/- 0.002)\n",
      "------------------------------\n",
      "feature: fast_number, classifier: Decision Tree\n",
      "Training time: 1.115s\n",
      "Accuracy_split: 0.801\n",
      "Accuracy_cross_validation: 0.803 (+/- 0.004)\n",
      "------------------------------\n",
      "feature: n_gram, classifier: Decision Tree\n",
      "------------------------------\n",
      "feature: readability, classifier: Decision Tree\n",
      "Training time: 0.826s\n",
      "Accuracy_split: 0.600\n",
      "Accuracy_cross_validation: 0.598 (+/- 0.004)\n"
     ]
    }
   ],
   "source": [
    "for feature, name in features:\n",
    "    print(\"-\"*30)\n",
    "    print(\"feature: {}, classifier: Decision Tree\".format(name))\n",
    "    \n",
    "    if name == 'n_gram':\n",
    "        continue\n",
    "        \n",
    "    X_train, X_test, y_train, y_test = train_test_split(feature, label, test_size=0.2, random_state=0)\n",
    "    \n",
    "    clf = DecisionTreeClassifier()\n",
    "    clf.fit(X_train, y_train)\n",
    "\n",
    "    t0 = time()\n",
    "    # using cross validation\n",
    "    scores = cross_val_score(clf, X_train, y_train, cv=5)\n",
    "    t1 = time() - t0\n",
    "    print(\"Training time: %0.3fs\" % t1)\n",
    "\n",
    "    score0 = clf.score(X_test, y_test)\n",
    "    score = scores.mean()\n",
    "    print(\"Accuracy_split: %0.3f\" % score0)\n",
    "    print(\"Accuracy_cross_validation: %0.3f (+/- %0.3f)\" % (score, scores.std()*2))\n",
    "    path = \"model/\" + name + '_dt.jbl'\n",
    "    dump(clf, path)"
   ]
  },
  {
   "cell_type": "code",
   "execution_count": null,
   "metadata": {},
   "outputs": [],
   "source": []
  },
  {
   "cell_type": "code",
   "execution_count": null,
   "metadata": {},
   "outputs": [],
   "source": []
  }
 ],
 "metadata": {
  "kernelspec": {
   "display_name": "Python 3",
   "language": "python",
   "name": "python3"
  },
  "language_info": {
   "codemirror_mode": {
    "name": "ipython",
    "version": 3
   },
   "file_extension": ".py",
   "mimetype": "text/x-python",
   "name": "python",
   "nbconvert_exporter": "python",
   "pygments_lexer": "ipython3",
   "version": "3.6.5"
  }
 },
 "nbformat": 4,
 "nbformat_minor": 2
}
