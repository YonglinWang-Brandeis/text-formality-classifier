{
 "cells": [
  {
   "cell_type": "markdown",
   "metadata": {},
   "source": [
    "# features:\n",
    "- entity\n",
    "- entity length\n",
    "- fast number\n",
    "- n-gram\n",
    "- readability"
   ]
  },
  {
   "cell_type": "code",
   "execution_count": 1,
   "metadata": {},
   "outputs": [
    {
     "name": "stdout",
     "output_type": "stream",
     "text": [
      "features loading...\n",
      "feature: entity, dimension: (209124, 6)\n",
      "feature: entity length, dimension: (209124, 1)\n",
      "feature: fast number, dimension: (209124, 6)\n",
      "feature: n-gram, dimension: (209124, 1359848)\n",
      "feature: readability, dimension: (209124, 2)\n",
      "features prepared in 0s\n",
      "\n"
     ]
    }
   ],
   "source": [
    "from joblib import load\n",
    "from time import time\n",
    "t0 = time()\n",
    "\n",
    "print(\"features loading...\")\n",
    "\n",
    "feature_ent = load(\"/Users/loewi/Documents/GitHub/text-formality-classifier/feature/ent_feature.jbl\")\n",
    "feature_ngram = load(\"/Users/loewi/Documents/GitHub/text-formality-classifier/feature/ngram_feature.jbl\")\n",
    "feature_len = load(\"/Users/loewi/Documents/GitHub/text-formality-classifier/feature/entity_length_feature.jbl\")\n",
    "feature_fast = load(\"/Users/loewi/Documents/GitHub/text-formality-classifier/feature/fast_num_feature.jbl\")\n",
    "feature_read = load(\"/Users/loewi/Documents/GitHub/text-formality-classifier/feature/readability_feature.jbl\")\n",
    "duration = time() - t0\n",
    "features = [(feature_ent,\"entity\"),\n",
    "            (feature_len, \"entity length\"),\n",
    "            (feature_fast, \"fast number\"),\n",
    "            (feature_ngram, \"n-gram\"),\n",
    "            (feature_read, \"readability\")]\n",
    "for feature, name in features:\n",
    "    print(\"feature: {}, dimension: {}\".format(name, feature.shape))\n",
    "    \n",
    "print(\"features prepared in %ds\\n\" % duration)"
   ]
  },
  {
   "cell_type": "code",
   "execution_count": 2,
   "metadata": {},
   "outputs": [
    {
     "name": "stdout",
     "output_type": "stream",
     "text": [
      "data loading...\n",
      "data prepared in 0s\n",
      "\n"
     ]
    }
   ],
   "source": [
    "print(\"data loading...\")\n",
    "t0 = time()\n",
    "sent_dict = load(open(\"/Users/loewi/Documents/GitHub/text-formality-classifier/preprocessing/corpus_dict.pkl\", \"rb\"))\n",
    "label = sent_dict[\"label\"]\n",
    "duration = time() - t0\n",
    "print(\"data prepared in %ds\\n\" % duration)"
   ]
  },
  {
   "cell_type": "code",
   "execution_count": 3,
   "metadata": {},
   "outputs": [],
   "source": [
    "from sklearn.model_selection import train_test_split\n",
    "from sklearn.preprocessing import MinMaxScaler,MaxAbsScaler\n",
    "from sklearn.linear_model import LogisticRegression\n",
    "from sklearn.tree import DecisionTreeClassifier\n",
    "from sklearn.naive_bayes import MultinomialNB\n",
    "from sklearn.model_selection import cross_val_score\n",
    "from sklearn import preprocessing\n",
    "from sklearn.utils import shuffle"
   ]
  },
  {
   "cell_type": "code",
   "execution_count": 4,
   "metadata": {},
   "outputs": [],
   "source": [
    "def get_non_neg_feature(feature):\n",
    "    scaler = MinMaxScaler()\n",
    "    feature = scaler.fit_transform(feature)\n",
    "    return feature"
   ]
  },
  {
   "cell_type": "markdown",
   "metadata": {},
   "source": [
    "# Naíve Bayes"
   ]
  },
  {
   "cell_type": "code",
   "execution_count": 97,
   "metadata": {},
   "outputs": [
    {
     "name": "stdout",
     "output_type": "stream",
     "text": [
      "------------------------------\n",
      "feature: entity, classifier: Naíve Bayes\n",
      "Training time: 0.963s\n",
      "Accuracy_split: 0.537\n",
      "Accuracy_cross_validation: 0.540 (+/- 0.004)\n",
      "------------------------------\n",
      "feature: entity length, classifier: Naíve Bayes\n",
      "Training time: 0.908s\n",
      "Accuracy_split: 0.499\n",
      "Accuracy_cross_validation: 0.500 (+/- 0.000)\n",
      "------------------------------\n",
      "feature: fast number, classifier: Naíve Bayes\n",
      "Training time: 0.923s\n",
      "Accuracy_split: 0.795\n",
      "Accuracy_cross_validation: 0.797 (+/- 0.006)\n",
      "------------------------------\n",
      "feature: n-gram, classifier: Naíve Bayes\n",
      "Training time: 2.746s\n",
      "Accuracy_split: 0.679\n",
      "Accuracy_cross_validation: 0.687 (+/- 0.002)\n",
      "------------------------------\n",
      "feature: readability, classifier: Naíve Bayes\n",
      "Training time: 0.926s\n",
      "Accuracy_split: 0.535\n",
      "Accuracy_cross_validation: 0.536 (+/- 0.004)\n"
     ]
    }
   ],
   "source": [
    "for feature, name in features:\n",
    "    print(\"-\"*30)\n",
    "    print(\"feature: {}, classifier: Naíve Bayes\".format(name))\n",
    "    if name == 'readability':\n",
    "        feature = get_non_neg_feature(feature)\n",
    "    X_train, X_test, y_train, y_test = train_test_split(feature, label, test_size=0.2, random_state=0)\n",
    "\n",
    "    clf = MultinomialNB()\n",
    "    clf.fit(X_train, y_train)\n",
    "\n",
    "    t0 = time()\n",
    "    # using cross validation\n",
    "    scores = cross_val_score(clf, X_train, y_train, cv=5)\n",
    "    t1 = time() - t0\n",
    "    print(\"Training time: %0.3fs\" % t1)\n",
    "\n",
    "    score0 = clf.score(X_test, y_test)\n",
    "    score = scores.mean()\n",
    "    print(\"Accuracy_split: %0.3f\" % score0)\n",
    "    print(\"Accuracy_cross_validation: %0.3f (+/- %0.3f)\" % (score, scores.std()*2))"
   ]
  },
  {
   "cell_type": "markdown",
   "metadata": {},
   "source": [
    "# Logistic Regression"
   ]
  },
  {
   "cell_type": "code",
   "execution_count": 85,
   "metadata": {},
   "outputs": [
    {
     "name": "stdout",
     "output_type": "stream",
     "text": [
      "------------------------------\n",
      "feature: entity, classifier: Logistic Regression\n",
      "Training time: 1.346s\n",
      "Accuracy_split: 0.537\n",
      "Accuracy_cross_validation: 0.541 (+/- 0.003)\n",
      "------------------------------\n",
      "feature: entity length, classifier: Logistic Regression\n",
      "Training time: 1.168s\n",
      "Accuracy_split: 0.523\n",
      "Accuracy_cross_validation: 0.526 (+/- 0.002)\n",
      "------------------------------\n",
      "feature: fast number, classifier: Logistic Regression\n",
      "Training time: 2.243s\n",
      "Accuracy_split: 0.804\n",
      "Accuracy_cross_validation: 0.808 (+/- 0.004)\n",
      "------------------------------\n",
      "feature: n-gram, classifier: Logistic Regression\n",
      "Training time: 115.471s\n",
      "Accuracy_split: 0.728\n",
      "Accuracy_cross_validation: 0.729 (+/- 0.003)\n",
      "------------------------------\n",
      "feature: readability, classifier: Logistic Regression\n",
      "Training time: 1.798s\n",
      "Accuracy_split: 0.569\n",
      "Accuracy_cross_validation: 0.570 (+/- 0.005)\n"
     ]
    }
   ],
   "source": [
    "for feature, name in features:\n",
    "    print(\"-\"*30)\n",
    "    print(\"feature: {}, classifier: Logistic Regression\".format(name))\n",
    "    X_train, X_test, y_train, y_test = train_test_split(feature, label, test_size=0.2, random_state=0)\n",
    "\n",
    "    clf = LogisticRegression()\n",
    "    clf.fit(X_train, y_train)\n",
    "\n",
    "    t0 = time()\n",
    "    # using cross validation\n",
    "    scores = cross_val_score(clf, X_train, y_train, cv=5)\n",
    "    t1 = time() - t0\n",
    "    print(\"Training time: %0.3fs\" % t1)\n",
    "\n",
    "    score0 = clf.score(X_test, y_test)\n",
    "    score = scores.mean()\n",
    "    print(\"Accuracy_split: %0.3f\" % score0)\n",
    "    print(\"Accuracy_cross_validation: %0.3f (+/- %0.3f)\" % (score, scores.std()*2))"
   ]
  },
  {
   "cell_type": "markdown",
   "metadata": {},
   "source": [
    "# Decision Tree"
   ]
  },
  {
   "cell_type": "code",
   "execution_count": 5,
   "metadata": {},
   "outputs": [
    {
     "name": "stdout",
     "output_type": "stream",
     "text": [
      "------------------------------\n",
      "feature: entity, classifier: Decision Tree\n",
      "Training time: 0.657s\n",
      "Accuracy_split: 0.539\n",
      "Accuracy_cross_validation: 0.544 (+/- 0.003)\n",
      "------------------------------\n",
      "feature: entity length, classifier: Decision Tree\n",
      "Training time: 0.623s\n",
      "Accuracy_split: 0.523\n",
      "Accuracy_cross_validation: 0.526 (+/- 0.002)\n",
      "------------------------------\n",
      "feature: fast number, classifier: Decision Tree\n",
      "Training time: 1.232s\n",
      "Accuracy_split: 0.801\n",
      "Accuracy_cross_validation: 0.803 (+/- 0.004)\n",
      "------------------------------\n",
      "feature: n-gram, classifier: Decision Tree\n",
      "------------------------------\n",
      "feature: readability, classifier: Decision Tree\n",
      "Training time: 0.891s\n",
      "Accuracy_split: 0.600\n",
      "Accuracy_cross_validation: 0.598 (+/- 0.004)\n"
     ]
    }
   ],
   "source": [
    "for feature, name in features:\n",
    "    print(\"-\"*30)\n",
    "    print(\"feature: {}, classifier: Decision Tree\".format(name))\n",
    "    \n",
    "    if name == 'n-gram':\n",
    "        continue\n",
    "        \n",
    "    X_train, X_test, y_train, y_test = train_test_split(feature, label, test_size=0.2, random_state=0)\n",
    "    \n",
    "    clf = DecisionTreeClassifier()\n",
    "    clf.fit(X_train, y_train)\n",
    "\n",
    "    t0 = time()\n",
    "    # using cross validation\n",
    "    scores = cross_val_score(clf, X_train, y_train, cv=5)\n",
    "    t1 = time() - t0\n",
    "    print(\"Training time: %0.3fs\" % t1)\n",
    "\n",
    "    score0 = clf.score(X_test, y_test)\n",
    "    score = scores.mean()\n",
    "    print(\"Accuracy_split: %0.3f\" % score0)\n",
    "    print(\"Accuracy_cross_validation: %0.3f (+/- %0.3f)\" % (score, scores.std()*2))"
   ]
  },
  {
   "cell_type": "code",
   "execution_count": null,
   "metadata": {},
   "outputs": [],
   "source": []
  },
  {
   "cell_type": "code",
   "execution_count": null,
   "metadata": {},
   "outputs": [],
   "source": []
  },
  {
   "cell_type": "code",
   "execution_count": null,
   "metadata": {},
   "outputs": [],
   "source": []
  }
 ],
 "metadata": {
  "kernelspec": {
   "display_name": "Python 3",
   "language": "python",
   "name": "python3"
  },
  "language_info": {
   "codemirror_mode": {
    "name": "ipython",
    "version": 3
   },
   "file_extension": ".py",
   "mimetype": "text/x-python",
   "name": "python",
   "nbconvert_exporter": "python",
   "pygments_lexer": "ipython3",
   "version": "3.6.5"
  }
 },
 "nbformat": 4,
 "nbformat_minor": 2
}
